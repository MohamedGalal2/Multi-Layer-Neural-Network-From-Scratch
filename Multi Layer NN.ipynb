{
 "cells": [
  {
   "cell_type": "code",
   "execution_count": 22,
   "metadata": {},
   "outputs": [],
   "source": [
    "import pandas as pd\n",
    "import matplotlib.pyplot as plt\n",
    "import numpy as np\n",
    "import random\n",
    "\n"
   ]
  },
  {
   "cell_type": "code",
   "execution_count": 23,
   "metadata": {
    "scrolled": false
   },
   "outputs": [
    {
     "name": "stdout",
     "output_type": "stream",
     "text": [
      "Bias:  0\n",
      "Number of hidden layers:  1\n",
      "\n",
      "Learning rate:  4\n",
      "\n",
      "Learning rate:  0.2\n",
      "\n",
      "Number of epochs:  1000\n",
      "\n",
      "selected function: 1\n"
     ]
    }
   ],
   "source": [
    "#read data\n",
    "df=pd.read_csv('IrisData.txt')\n",
    "%run Tkinter_task_3.ipynb"
   ]
  },
  {
   "cell_type": "code",
   "execution_count": 24,
   "metadata": {},
   "outputs": [],
   "source": [
    "def sigmoid(net):\n",
    "    res = 1/(1+np.exp(-net))\n",
    "    return res"
   ]
  },
  {
   "cell_type": "code",
   "execution_count": 25,
   "metadata": {},
   "outputs": [],
   "source": [
    "def tanh(net):\n",
    "    res = np.tanh(net)\n",
    "    return res"
   ]
  },
  {
   "cell_type": "code",
   "execution_count": 26,
   "metadata": {},
   "outputs": [],
   "source": [
    "def derv(net):\n",
    "    if act_fun==1:\n",
    "        \n",
    "        z=net*(1-net)\n",
    "        \n",
    "    else:\n",
    "        \n",
    "        z=(1-net)*(1+net)\n",
    "    return z    \n",
    "    \n",
    "    \n",
    "    \n",
    "    "
   ]
  },
  {
   "cell_type": "code",
   "execution_count": 27,
   "metadata": {},
   "outputs": [],
   "source": [
    "def init_weights():\n",
    "    weights_list=[]\n",
    "    input_weights = np.random.rand(int(number_neurons[0]),4+b)\n",
    "\n",
    "    weights_list.append(input_weights)\n",
    "\n",
    "\n",
    "    for i in range (hidden_layers-1):\n",
    "        weights = np.random.rand(int(number_neurons[i+1]),int(number_neurons[i]+b))\n",
    "        weights_list.append(weights)\n",
    "    \n",
    "    output_weights = np.random.rand(3,int(number_neurons[hidden_layers-1]+b))\n",
    "    weights_list.append(output_weights)\n",
    "    return weights_list"
   ]
  },
  {
   "cell_type": "code",
   "execution_count": 28,
   "metadata": {},
   "outputs": [],
   "source": [
    "def calculate_net(inputs,w):\n",
    "    \n",
    "    res = np.dot(inputs,w.T)\n",
    "    \n",
    "    if act_fun == 1:\n",
    "        \n",
    "        fnet = sigmoid(res)\n",
    "    \n",
    "    elif act_fun == 2:\n",
    "       \n",
    "        fnet = tanh(res)\n",
    "    \n",
    "    return fnet"
   ]
  },
  {
   "cell_type": "code",
   "execution_count": 29,
   "metadata": {},
   "outputs": [],
   "source": [
    "def confusion_matrix(predict,actual):\n",
    "    totalp=0 \n",
    "    totaln=0 \n",
    "    \n",
    "    tseto_seto=0      #prediction: setosa , actual: setosa\n",
    "    tseto_vers=0      #prediction: setosa , actual: versicolor\n",
    "    tseto_virg=0      \n",
    "    #p    #a\n",
    "    tvers_vers=0\n",
    "    tvers_virg=0\n",
    "    tvers_seto=0\n",
    "    \n",
    "    tvirg_virg=0\n",
    "    tvirg_vers=0\n",
    "    tvirg_seto=0\n",
    "    \n",
    "\n",
    "    for i,j in zip(predict, actual):\n",
    "        \n",
    "        \n",
    "        if i == j:\n",
    "            if (i ==0):\n",
    "                tseto_seto+=1\n",
    "                \n",
    "            elif (i ==1):\n",
    "                tvers_vers+=1\n",
    "            \n",
    "            elif (i ==2):\n",
    "                tvirg_virg+=1\n",
    "                \n",
    "        elif j == 0:\n",
    "            if(i == 1):\n",
    "                tseto_vers+=1\n",
    "            else:\n",
    "                tseto_virg+=1\n",
    "                \n",
    "        elif j == 1:\n",
    "            if(i == 0):\n",
    "                tvers_seto+=1\n",
    "            else:\n",
    "                tvers_virg+=1\n",
    "                \n",
    "        elif j == 2:\n",
    "            if(i == 0):\n",
    "                tvirg_seto+=1\n",
    "            else:\n",
    "                tvirg_vers+=1\n",
    "                \n",
    "    accuracy = (tseto_seto+tvers_vers+tvirg_virg)/len(predict)\n",
    "    import seaborn as sn\n",
    "    arr=[[tseto_seto,tseto_vers,tseto_virg] , [tvers_seto,tvers_vers,tvers_virg] , [tvirg_seto,tvirg_vers,tvirg_virg]]\n",
    "\n",
    "\n",
    "    conv=pd.DataFrame(arr)\n",
    "\n",
    "# renaming the DataFrame columns\n",
    "    conv.columns = ['Iris-seto', 'Ires-vers','Ires-virg']\n",
    "    conv.index=['Iris-seto', 'Ires-vers','Ires-virg']\n",
    "    plt.figure()\n",
    "    sn.set(font_scale=1.4) # for label size\n",
    "    sn.heatmap(conv, annot=True, annot_kws={\"size\": 20},cbar=0,xticklabels=True,yticklabels=1, fmt=\"d\",cmap='YlGnBu') # font size\n",
    "\n",
    "                           \n",
    "    print(\"Accuracy:\",accuracy*100,\"%\")\n",
    "    plt.show() "
   ]
  },
  {
   "cell_type": "code",
   "execution_count": 30,
   "metadata": {},
   "outputs": [],
   "source": [
    "#check selected features\n",
    "act_fun = sele_f.get()\n",
    "\n",
    "\n",
    "#check bias, learning rate and epochs\n",
    "if check_var.get()==1:\n",
    "    b=1\n",
    "else: \n",
    "    b=0\n",
    "\n",
    "#convert from string \n",
    "hidden_layers=int(hl)\n",
    "\n",
    "number_neurons=str(nn)\n",
    "number_neurons = number_neurons.strip('\\n')\n",
    "number_neurons = number_neurons.split(\",\")\n",
    "\n",
    "number_neurons=list(map(int, number_neurons))\n",
    "\n",
    "\n",
    "\n",
    "lr=float(lr)\n",
    "epochs=int(epochs)"
   ]
  },
  {
   "cell_type": "code",
   "execution_count": 31,
   "metadata": {},
   "outputs": [],
   "source": [
    "#Train_Test_split\n",
    "\n",
    "df_train1=df.iloc[0:30,:]\n",
    "df_train2=df.iloc[50:80,:]\n",
    "df_train3=df.iloc[100:130,:]\n",
    "df_train=pd.concat([df_train1, df_train2,df_train3])\n",
    "df_train=df_train.reset_index(drop=True)\n",
    "\n",
    "df_test1=df.iloc[30:50,:]\n",
    "df_test2=df.iloc[80:100,:]\n",
    "df_test3=df.iloc[130:150,:]\n",
    "df_test=pd.concat([df_test1, df_test2,df_test3])\n",
    "df_test=df_test.reset_index(drop=True)\n",
    "\n",
    "\n",
    "#shuffle data -> better training\n",
    "df_train=df_train.sample(frac=1,random_state=42).reset_index(drop=True)\n",
    "df_test=df_test.sample(frac=1,random_state=42).reset_index(drop=True)\n",
    "\n",
    "\n",
    "\n",
    "#Train-Test split\n",
    "x_train=df_train.iloc[:,:4]\n",
    "y_train=df_train.iloc[:,-1]\n",
    "x_test=df_test.iloc[:,:4]\n",
    "y_test=df_test.iloc[:,-1]\n",
    "\n",
    "y_train=y_train.values\n"
   ]
  },
  {
   "cell_type": "code",
   "execution_count": 32,
   "metadata": {},
   "outputs": [],
   "source": [
    "y_train\n",
    "y_train=pd.get_dummies(y_train)\n"
   ]
  },
  {
   "cell_type": "code",
   "execution_count": 33,
   "metadata": {},
   "outputs": [],
   "source": [
    "##### TRAIN #####\n",
    "def MLP():\n",
    "    if b == 1:\n",
    "        x_train_b = np.append(np.ones((x_train.shape[0],1)),x_train,axis = 1)\n",
    "        net = x_train_b\n",
    "        m=x_train_b\n",
    "    else:\n",
    "        net = x_train\n",
    "        m=x_train\n",
    "        m=m.to_numpy()\n",
    "        net=net.to_numpy()\n",
    "    y=y_train\n",
    "    y=y.to_numpy()\n",
    "    \n",
    "    weights_list=init_weights() #initialize weights randomly\n",
    "\n",
    "\n",
    "    for i in range (epochs):\n",
    "        \n",
    "        ypred_train=np.zeros((90,3))\n",
    "        for j in range (m.shape[0]):  #no. of rows\n",
    "            \n",
    "            error_list=[]     #list of error signals\n",
    "            list_nets=[]      #list of inputs\n",
    "            backprop_list=[]  #list of error signals without bias\n",
    "            der=[]            #derivatives\n",
    "            \n",
    "            #### FORWARD PROPAGATION ###\n",
    "            for k in range (0, hidden_layers+1):\n",
    "                if k==0:\n",
    "                    net=m[j]\n",
    "                    list_nets.append(net)\n",
    "                    net = calculate_net(net, weights_list[k])\n",
    "                else:\n",
    "                    if b==1:\n",
    "                        net=net.reshape(1,-1)\n",
    "                        net = np.append(np.ones((1,1)),net,axis = 1)\n",
    "                    der.append(derv(net))\n",
    "                    list_nets.append(net)\n",
    "                    net=net.reshape(1,-1)    \n",
    "                    net = calculate_net(net, weights_list[k])          \n",
    "            list_nets.append(net)\n",
    "            der.append(derv(net))\n",
    "            ypred_train[j]=net     \n",
    "            \n",
    "            \n",
    "            \n",
    "            #### BACKWARD PROPAGATION ###\n",
    "            z=derv(list_nets[hidden_layers+1])\n",
    "            error=(y[j]-list_nets[hidden_layers+1])*z    #error signal of output layer\n",
    "            error_list.append(error)\n",
    "            backprop_list.append(error)                  #output layer -> no bias   \n",
    "            for bk in range(hidden_layers-1,-1,-1) :\n",
    " \n",
    "                if bk==hidden_layers-1:\n",
    "                    error=der[bk]*np.dot(error_list[-1],weights_list[bk+1])\n",
    "                else:\n",
    "                    if b==1:\n",
    "                        error=der[bk]*np.dot(backprop_list[-1],weights_list[bk+1])\n",
    "                    else:\n",
    "                        error=der[bk]*np.dot(error_list[-1],weights_list[bk+1])\n",
    "                error_list.append(error)  \n",
    "                backprop_list.append(error[:,1:])      #remove bias error\n",
    "                \n",
    "            ##### WEIGHTS UPDATE #####\n",
    "            for up in range (0, hidden_layers+1):\n",
    "         \n",
    "                if b==1:\n",
    "               \n",
    "                    weights_list[up]=weights_list[up]+lr*(backprop_list[-1].reshape(-1,1))*list_nets[up]\n",
    "                    backprop_list.pop()      #update using error without bias of next layer\n",
    "                else:\n",
    "                    weights_list[up]=weights_list[up]+lr*(error_list[-1].reshape(-1,1))*list_nets[up]\n",
    "                    error_list.pop()        #update normally\n",
    "                    \n",
    "    return weights_list,ypred_train                    "
   ]
  },
  {
   "cell_type": "code",
   "execution_count": 34,
   "metadata": {},
   "outputs": [],
   "source": [
    "##### TEST #####\n",
    "def testing_phase(x_test,weights_list):\n",
    "    ypred_test=np.zeros((60,3))\n",
    "    if b==1:\n",
    "        x_test=np.append(np.ones((x_test.shape[0],1)),x_test,axis = 1)\n",
    "    for j in range (x_test.shape[0]):\n",
    "\n",
    "\n",
    "\n",
    "        net =calculate_net(x_test[j], weights_list[0])\n",
    "\n",
    "        for k in range (1 , hidden_layers+1):\n",
    "\n",
    "            if b==1:\n",
    "\n",
    "                net=net.reshape(1,-1)\n",
    "                net = np.append(np.ones((1,1)),net,axis = 1)\n",
    "\n",
    "\n",
    "            net=net.reshape(1,-1)\n",
    " \n",
    "            net = calculate_net(net, weights_list[k])\n",
    "\n",
    "        ypred_test[j]=net\n",
    "\n",
    "\n",
    "    x_test.shape\n",
    "    ypred_test.shape\n",
    "    return ypred_test"
   ]
  },
  {
   "cell_type": "code",
   "execution_count": 35,
   "metadata": {},
   "outputs": [],
   "source": [
    " weights_list,ypred_train=MLP()"
   ]
  },
  {
   "cell_type": "code",
   "execution_count": 36,
   "metadata": {},
   "outputs": [],
   "source": [
    "test_nets=[]\n",
    "x_test=x_test.to_numpy()\n",
    "ypred_test=testing_phase(x_test,weights_list)\n"
   ]
  },
  {
   "cell_type": "code",
   "execution_count": 37,
   "metadata": {
    "scrolled": true
   },
   "outputs": [],
   "source": [
    "ypred_test=pd.DataFrame(ypred_test)\n",
    "ypred_train=pd.DataFrame(ypred_train)\n",
    "ypred_test=ypred_test.eq(ypred_test.where(ypred_test != 0).max(1), axis=0).astype(int)\n",
    "ypred_train=ypred_train.eq(ypred_train.where(ypred_train != 0).max(1), axis=0).astype(int)\n",
    "\n",
    "\n"
   ]
  },
  {
   "cell_type": "code",
   "execution_count": 38,
   "metadata": {},
   "outputs": [
    {
     "name": "stdout",
     "output_type": "stream",
     "text": [
      "[1, 0, 1, 1, 0, 0, 1, 2, 0, 1, 2, 1, 1, 1, 0, 0, 0, 0, 1, 2, 2, 2, 2, 1, 1, 0, 2, 2, 1, 2, 0, 2, 0, 1, 1, 0, 1, 1, 0, 2, 0, 0, 2, 0, 1, 0, 0, 0, 0, 1, 0, 1, 0, 2, 1, 2, 2, 1, 1, 2, 1, 2, 2, 0, 2, 1, 1, 1, 2, 1, 1, 2, 1, 2, 2, 1, 0, 0, 1, 0, 0, 0, 1, 2, 2, 0, 2, 2, 0, 1]\n",
      "\n",
      " ------------------------------------------------------------------------------------\n",
      "[1, 0, 1, 2, 0, 0, 1, 2, 0, 1, 2, 1, 1, 2, 0, 0, 0, 0, 1, 2, 2, 2, 2, 1, 1, 0, 2, 2, 1, 2, 0, 2, 0, 1, 1, 0, 1, 1, 0, 2, 0, 0, 2, 0, 1, 0, 0, 0, 0, 1, 0, 2, 0, 2, 1, 2, 2, 1, 1, 1, 1, 2, 2, 0, 2, 1, 1, 1, 2, 1, 1, 2, 1, 2, 2, 1, 0, 0, 1, 0, 0, 0, 2, 2, 2, 0, 2, 2, 0, 1]\n"
     ]
    }
   ],
   "source": [
    "\n",
    "\n",
    "x=ypred_train.iloc[:,:2].values\n",
    "y=y_train.iloc[:,:2].values\n",
    "\n",
    "ypred_train_np = np.array(ypred_train)\n",
    "y_train_np = np.array(y_train)\n",
    "\n",
    "ypred_train_label = []           #1 column with label for each class -> to calculate accuracy\n",
    "y_train_label = []\n",
    "\n",
    "for i in range (y_train.shape[0]):\n",
    "    \n",
    "    ypred_train_label.append(np.argmax(ypred_train_np[i]))     #get label of the positive class  \n",
    "    y_train_label.append(np.argmax(y_train_np[i]))\n",
    "    \n",
    "print(ypred_train_label)\n",
    "print(\"\\n ------------------------------------------------------------------------------------\")\n",
    "print(y_train_label)\n",
    "\n",
    "\n"
   ]
  },
  {
   "cell_type": "code",
   "execution_count": 39,
   "metadata": {},
   "outputs": [],
   "source": [
    "\n",
    "y_test=pd.get_dummies(y_test)\n"
   ]
  },
  {
   "cell_type": "code",
   "execution_count": 40,
   "metadata": {},
   "outputs": [],
   "source": [
    "ypred_test_np = np.array(ypred_test)\n",
    "\n",
    "y_test_np = np.array(y_test)\n",
    "\n",
    "\n",
    "ypred_test_label = []\n",
    "y_test_label = []                      #1 column with label for each class -> to calculate accuracy\n",
    "\n",
    "for i in range (y_test.shape[0]):        \n",
    "    \n",
    "    ypred_test_label.append(np.argmax(ypred_test_np[i]))    #get label of the positive class  \n",
    "    y_test_label.append(np.argmax(y_test_np[i]))\n",
    "    \n",
    "\n"
   ]
  },
  {
   "cell_type": "code",
   "execution_count": 41,
   "metadata": {},
   "outputs": [
    {
     "name": "stdout",
     "output_type": "stream",
     "text": [
      "Accuracy: 94.44444444444444 %\n"
     ]
    },
    {
     "data": {
      "image/png": "[encoded data removed]",
      "text/plain": [
       "<Figure size 432x288 with 1 Axes>"
      ]
     },
     "metadata": {},
     "output_type": "display_data"
    }
   ],
   "source": [
    "confusion_matrix(ypred_train_label,y_train_label)"
   ]
  },
  {
   "cell_type": "code",
   "execution_count": 42,
   "metadata": {},
   "outputs": [
    {
     "name": "stdout",
     "output_type": "stream",
     "text": [
      "Accuracy: 98.33333333333333 %\n"
     ]
    },
    {
     "data": {
      "image/png": "[encoded data removed]",
      "text/plain": [
       "<Figure size 432x288 with 1 Axes>"
      ]
     },
     "metadata": {},
     "output_type": "display_data"
    }
   ],
   "source": [
    "confusion_matrix(ypred_test_label,y_test_label)"
   ]
  },
  {
   "cell_type": "code",
   "execution_count": null,
   "metadata": {},
   "outputs": [],
   "source": []
  }
 ],
 "metadata": {
  "kernelspec": {
   "display_name": "Python 3",
   "language": "python",
   "name": "python3"
  },
  "language_info": {
   "codemirror_mode": {
    "name": "ipython",
    "version": 3
   },
   "file_extension": ".py",
   "mimetype": "text/x-python",
   "name": "python",
   "nbconvert_exporter": "python",
   "pygments_lexer": "ipython3",
   "version": "3.8.8"
  }
 },
 "nbformat": 4,
 "nbformat_minor": 4
}
